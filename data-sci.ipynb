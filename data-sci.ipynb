{
 "cells": [
  {
   "attachments": {},
   "cell_type": "markdown",
   "metadata": {},
   "source": [
    "# Preamble\n",
    "\n",
    "Importas and details about execution environment."
   ]
  },
  {
   "cell_type": "code",
   "execution_count": null,
   "metadata": {},
   "outputs": [],
   "source": [
    "# Uncomment the needed imports (VSCode: Ctrl+Shift+7)\n",
    "\n",
    "### data manipulation support ###\n",
    "\n",
    "import numpy as np\n",
    "import pandas as pd\n",
    "\n",
    "### data visualization and interactivity support ###\n",
    "\n",
    "import holoviews as hv\n",
    "import hvplot.pandas\n",
    "hv.extension('bokeh')\n",
    "\n",
    "# import panel as pn\n",
    "# pn.extension()\n",
    "\n",
    "# import geopandas as gpd\n",
    "# import geoviews as gv\n",
    "# gv.extension('bokeh')\n",
    "\n",
    "### data science support ###\n",
    "\n",
    "# import scipy\n",
    "# import sklearn\n",
    "# import statsmodels.api as sm\n",
    "\n",
    "### programming and typing support ###\n",
    "\n",
    "# from typing import Dict, List, Tuple, Union, Optional, Any, Callable, Iterable\n",
    "# from pathlib import Path\n",
    "# from dataclasses import dataclass\n",
    "# from joblib import Parallel, delayed\n",
    "# import warnings\n",
    "\n",
    "%load_ext watermark\n",
    "%watermark -u -i -v -iv -m -co -a 'Valentin Bauer'"
   ]
  },
  {
   "attachments": {},
   "cell_type": "markdown",
   "metadata": {},
   "source": [
    "# Title: Template for my data science notebooks\n",
    "\n",
    "## Goal\n",
    "\n",
    "I don't like having to copy and paste the same code over and over again. This is a template for my data science notebooks."
   ]
  }
 ],
 "metadata": {
  "kernelspec": {
   "display_name": "data-sci",
   "language": "python",
   "name": "python3"
  },
  "language_info": {
   "codemirror_mode": {
    "name": "ipython",
    "version": 3
   },
   "file_extension": ".py",
   "mimetype": "text/x-python",
   "name": "python",
   "nbconvert_exporter": "python",
   "pygments_lexer": "ipython3",
   "version": "3.10.5"
  },
  "orig_nbformat": 4,
  "vscode": {
   "interpreter": {
    "hash": "60d26bf0a7b9333044681719b16b8b218c61640031a91af62f2e414df199e44e"
   }
  }
 },
 "nbformat": 4,
 "nbformat_minor": 2
}
